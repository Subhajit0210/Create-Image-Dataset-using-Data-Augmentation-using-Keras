{
 "cells": [
  {
   "cell_type": "code",
   "execution_count": 13,
   "id": "b82163b2-bd0a-4a62-8cca-56cc8c59c01f",
   "metadata": {},
   "outputs": [],
   "source": [
    "import os\n",
    "from tensorflow.keras.preprocessing.image import ImageDataGenerator, array_to_img, img_to_array, load_img"
   ]
  },
  {
   "cell_type": "code",
   "execution_count": 15,
   "id": "85975da5-2f85-403c-961e-583593bb805e",
   "metadata": {},
   "outputs": [],
   "source": [
    "# Get the current working directory\n",
    "current_directory = os.getcwd()\n",
    "\n",
    "# Create the path for the 'preview' directory\n",
    "preview_directory = os.path.join(current_directory, 'preview_directory')\n",
    "\n",
    "# Create the directory if it doesn't exist\n",
    "if not os.path.exists(preview_directory):\n",
    "    os.makedirs(preview_directory)"
   ]
  },
  {
   "cell_type": "code",
   "execution_count": 17,
   "id": "50b6460d-d0ba-4912-97c6-81fa04a71fa1",
   "metadata": {},
   "outputs": [],
   "source": [
    "datagen = ImageDataGenerator(\n",
    "        rotation_range=40,\n",
    "        width_shift_range=0.2,\n",
    "        height_shift_range=0.2,\n",
    "        shear_range=0.2,\n",
    "        zoom_range=0.2,\n",
    "        horizontal_flip=True,\n",
    "        fill_mode='nearest')"
   ]
  },
  {
   "cell_type": "code",
   "execution_count": 19,
   "id": "123b36dd-ea86-4bb3-87be-6550eb2b8049",
   "metadata": {},
   "outputs": [],
   "source": [
    "img = load_img('single prediction/dog_or_cat_1.jpg')  # this is a PIL image"
   ]
  },
  {
   "cell_type": "code",
   "execution_count": 21,
   "id": "8ceb2459-2ef1-449f-a413-fd76ad92466f",
   "metadata": {},
   "outputs": [],
   "source": [
    "x = img_to_array(img)  # this is a Numpy array with shape (3, 150, 150)\n",
    "x = x.reshape((1,) + x.shape)  # this is a Numpy array with shape (1, 3, 150, 150)\n",
    "\n",
    "# the .flow() command below generates batches of randomly transformed images and saves the results to the `preview/` directory\n",
    "i = 0\n",
    "for batch in datagen.flow(x, batch_size=1,\n",
    "                          save_to_dir=preview_directory, save_prefix='dog', save_format='jpeg'): # Updated save_to_dir\n",
    "    i += 1\n",
    "    if i > 20:\n",
    "        break  # otherwise the generator would loop indefinitely"
   ]
  },
  {
   "cell_type": "code",
   "execution_count": null,
   "id": "93e0d831-ef3f-41e2-9a00-0c142a30f91d",
   "metadata": {},
   "outputs": [],
   "source": []
  }
 ],
 "metadata": {
  "kernelspec": {
   "display_name": "Python 3 (ipykernel)",
   "language": "python",
   "name": "python3"
  },
  "language_info": {
   "codemirror_mode": {
    "name": "ipython",
    "version": 3
   },
   "file_extension": ".py",
   "mimetype": "text/x-python",
   "name": "python",
   "nbconvert_exporter": "python",
   "pygments_lexer": "ipython3",
   "version": "3.12.4"
  }
 },
 "nbformat": 4,
 "nbformat_minor": 5
}
